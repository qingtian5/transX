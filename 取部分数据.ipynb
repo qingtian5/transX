{
 "cells": [
  {
   "cell_type": "code",
   "execution_count": 8,
   "id": "a842fd2c-f4f1-4f48-adcd-37d6e93dae86",
   "metadata": {
    "tags": []
   },
   "outputs": [],
   "source": [
    "import pandas as pd\n",
    "import random\n",
    "\n",
    "def extract_random_data(input_file, output_file, num_samples=256):\n",
    "    # Read the Excel file\n",
    "    df = pd.read_excel(input_file)\n",
    "    \n",
    "    num_total_samples = len(df)\n",
    "    if num_total_samples < num_samples:\n",
    "        raise ValueError(\"Number of samples in the input file is less than the requested number of samples.\")\n",
    "    \n",
    "    # Randomly sample the data\n",
    "    random_samples = df.sample(n=num_samples)\n",
    "\n",
    "    # Write the sampled data to a new Excel file\n",
    "    random_samples.to_excel(output_file, index=False)\n",
    "\n",
    "# Example usage\n",
    "input_file_path = '/root/autodl-tmp/transX/val_df.xlsx'  # Change this to your input file path\n",
    "output_file_path = '/root/autodl-tmp/transX/val_test.xlsx'  # Change this to your output file path\n",
    "\n",
    "extract_random_data(input_file_path, output_file_path)\n"
   ]
  },
  {
   "cell_type": "code",
   "execution_count": 1,
   "id": "e2cb4406-ef44-41ca-8404-92fa7eeb5c8e",
   "metadata": {
    "tags": []
   },
   "outputs": [
    {
     "name": "stdout",
     "output_type": "stream",
     "text": [
      "2.0.0+cu118\n",
      "True\n",
      "11.8\n"
     ]
    }
   ],
   "source": [
    "import torch\n",
    "print(torch.__version__) \n",
    "print(torch.cuda.is_available())\n",
    "print(torch.version.cuda)"
   ]
  },
  {
   "cell_type": "code",
   "execution_count": null,
   "id": "6cdb073c-f5fd-4d8c-81af-2e16d6485b79",
   "metadata": {},
   "outputs": [],
   "source": []
  }
 ],
 "metadata": {
  "kernelspec": {
   "display_name": "Python 3 (ipykernel)",
   "language": "python",
   "name": "python3"
  },
  "language_info": {
   "codemirror_mode": {
    "name": "ipython",
    "version": 3
   },
   "file_extension": ".py",
   "mimetype": "text/x-python",
   "name": "python",
   "nbconvert_exporter": "python",
   "pygments_lexer": "ipython3",
   "version": "3.8.10"
  }
 },
 "nbformat": 4,
 "nbformat_minor": 5
}
